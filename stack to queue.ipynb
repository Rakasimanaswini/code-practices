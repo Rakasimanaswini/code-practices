{
  "nbformat": 4,
  "nbformat_minor": 0,
  "metadata": {
    "colab": {
      "provenance": [],
      "authorship_tag": "ABX9TyMa53czqW1KQQpm+NALKyfX",
      "include_colab_link": true
    },
    "kernelspec": {
      "name": "python3",
      "display_name": "Python 3"
    },
    "language_info": {
      "name": "python"
    }
  },
  "cells": [
    {
      "cell_type": "markdown",
      "metadata": {
        "id": "view-in-github",
        "colab_type": "text"
      },
      "source": [
        "<a href=\"https://colab.research.google.com/github/Rakasimanaswini/my-python-project/blob/main/stack%20to%20queue.ipynb\" target=\"_parent\"><img src=\"https://colab.research.google.com/assets/colab-badge.svg\" alt=\"Open In Colab\"/></a>"
      ]
    },
    {
      "cell_type": "code",
      "execution_count": 1,
      "metadata": {
        "colab": {
          "base_uri": "https://localhost:8080/"
        },
        "id": "QsgRXVHF47Dn",
        "outputId": "12532bd3-f271-4066-ec6f-85a8ecd23b31"
      },
      "outputs": [
        {
          "output_type": "stream",
          "name": "stdout",
          "text": [
            "Pushed 10 into stack.\n",
            "Pushed 20 into stack.\n",
            "Pushed 30 into stack.\n",
            "Current Stack: [10, 20, 30]\n",
            "Popped 30 from stack and inserted into queue.\n",
            "Popped 20 from stack and inserted into queue.\n",
            "Current Stack: [10]\n",
            "Current Queue: [30, 20]\n",
            "Popped 10 from stack and inserted into queue.\n",
            "Current Stack: []\n",
            "Current Queue: [30, 20, 10]\n"
          ]
        }
      ],
      "source": [
        "from collections import deque\n",
        "\n",
        "# Stack using list\n",
        "stack = []\n",
        "\n",
        "# Queue using deque\n",
        "queue = deque()\n",
        "\n",
        "# Insert elements into stack\n",
        "def push_stack(element):\n",
        "    stack.append(element)\n",
        "    print(f\"Pushed {element} into stack.\")\n",
        "\n",
        "# Delete (pop) elements from stack and add to queue\n",
        "def pop_to_queue():\n",
        "    if stack:\n",
        "        element = stack.pop()\n",
        "        queue.append(element)\n",
        "        print(f\"Popped {element} from stack and inserted into queue.\")\n",
        "    else:\n",
        "        print(\"Stack is empty, cannot pop.\")\n",
        "\n",
        "# Display current stack\n",
        "def display_stack():\n",
        "    print(\"Current Stack:\", stack)\n",
        "\n",
        "# Display current queue\n",
        "def display_queue():\n",
        "    print(\"Current Queue:\", list(queue))\n",
        "\n",
        "\n",
        "# Example usage\n",
        "if __name__ == \"__main__\":\n",
        "    # Push elements into stack\n",
        "    push_stack(10)\n",
        "    push_stack(20)\n",
        "    push_stack(30)\n",
        "    display_stack()\n",
        "\n",
        "    # Pop elements into queue\n",
        "    pop_to_queue()\n",
        "    pop_to_queue()\n",
        "    display_stack()\n",
        "    display_queue()\n",
        "\n",
        "    # Pop remaining element\n",
        "    pop_to_queue()\n",
        "    display_stack()\n",
        "    display_queue()\n"
      ]
    }
  ]
}