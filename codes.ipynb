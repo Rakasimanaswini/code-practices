{
  "nbformat": 4,
  "nbformat_minor": 0,
  "metadata": {
    "colab": {
      "provenance": [],
      "authorship_tag": "ABX9TyOMZ7MFFrpirq2PMgZYTGJR",
      "include_colab_link": true
    },
    "kernelspec": {
      "name": "python3",
      "display_name": "Python 3"
    },
    "language_info": {
      "name": "python"
    }
  },
  "cells": [
    {
      "cell_type": "markdown",
      "metadata": {
        "id": "view-in-github",
        "colab_type": "text"
      },
      "source": [
        "<a href=\"https://colab.research.google.com/github/Rakasimanaswini/code-practices/blob/main/codes.ipynb\" target=\"_parent\"><img src=\"https://colab.research.google.com/assets/colab-badge.svg\" alt=\"Open In Colab\"/></a>"
      ]
    },
    {
      "cell_type": "code",
      "execution_count": 2,
      "metadata": {
        "id": "QsgRXVHF47Dn",
        "outputId": "fb6daf3e-d353-4380-b4c5-d3e636026694",
        "colab": {
          "base_uri": "https://localhost:8080/"
        }
      },
      "outputs": [
        {
          "output_type": "stream",
          "name": "stdout",
          "text": [
            "Pushed 10 into stack.\n",
            "Pushed 20 into stack.\n",
            "Pushed 30 into stack.\n",
            "Current Stack: [10, 20, 30]\n",
            "Popped 30 from stack and inserted into queue.\n",
            "Popped 20 from stack and inserted into queue.\n",
            "Current Stack: [10]\n",
            "Current Queue: [30, 20]\n",
            "Popped 10 from stack and inserted into queue.\n",
            "Current Stack: []\n",
            "Current Queue: [30, 20, 10]\n"
          ]
        }
      ],
      "source": [
        "from collections import deque\n",
        "\n",
        "# Stack using list\n",
        "stack = []\n",
        "\n",
        "# Queue using deque\n",
        "queue = deque()\n",
        "\n",
        "# Insert elements into stack\n",
        "def push_stack(element):\n",
        "    stack.append(element)\n",
        "    print(f\"Pushed {element} into stack.\")\n",
        "\n",
        "# Delete (pop) elements from stack and add to queue\n",
        "def pop_to_queue():\n",
        "    if stack:\n",
        "        element = stack.pop()\n",
        "        queue.append(element)\n",
        "        print(f\"Popped {element} from stack and inserted into queue.\")\n",
        "    else:\n",
        "        print(\"Stack is empty, cannot pop.\")\n",
        "\n",
        "# Display current stack\n",
        "def display_stack():\n",
        "    print(\"Current Stack:\", stack)\n",
        "\n",
        "# Display current queue\n",
        "def display_queue():\n",
        "    print(\"Current Queue:\", list(queue))\n",
        "\n",
        "\n",
        "# Example usage\n",
        "if __name__ == \"__main__\":\n",
        "    # Push elements into stack\n",
        "    push_stack(10)\n",
        "    push_stack(20)\n",
        "    push_stack(30)\n",
        "    display_stack()\n",
        "\n",
        "    # Pop elements into queue\n",
        "    pop_to_queue()\n",
        "    pop_to_queue()\n",
        "    display_stack()\n",
        "    display_queue()\n",
        "\n",
        "    # Pop remaining element\n",
        "    pop_to_queue()\n",
        "    display_stack()\n",
        "    display_queue()\n"
      ]
    },
    {
      "cell_type": "code",
      "source": [
        "def lengthOfLongestSubstring(s: str) -> int:\n",
        "    char_set = set()\n",
        "    left = 0\n",
        "    max_len = 0\n",
        "\n",
        "    for right in range(len(s)):\n",
        "        # If character already in window, shrink from left until unique\n",
        "        while s[right] in char_set:\n",
        "            char_set.remove(s[left])\n",
        "            left += 1\n",
        "\n",
        "        # Add current character\n",
        "        char_set.add(s[right])\n",
        "\n",
        "        # Update max length\n",
        "        max_len = max(max_len, right - left + 1)\n",
        "\n",
        "    return max_len\n",
        "\n",
        "\n",
        "# Example usage\n",
        "if __name__ == \"__main__\":\n",
        "    s = \"abcdefaa\"\n",
        "    print(lengthOfLongestSubstring(s))\n",
        "\n",
        "    s = \"bcgd\"\n",
        "    print(lengthOfLongestSubstring(s))\n",
        "\n",
        "    s = \"pikuuu\"\n",
        "    print(lengthOfLongestSubstring(s))\n",
        "\n",
        "\n"
      ],
      "metadata": {
        "colab": {
          "base_uri": "https://localhost:8080/"
        },
        "id": "y7LyBvBKIfwT",
        "outputId": "f74c0cc8-b504-4ac9-cc6d-fe6e3839f798"
      },
      "execution_count": 5,
      "outputs": [
        {
          "output_type": "stream",
          "name": "stdout",
          "text": [
            "6\n",
            "4\n",
            "4\n"
          ]
        }
      ]
    },
    {
      "cell_type": "code",
      "source": [
        "from typing import List\n",
        "\n",
        "def generate_parentheses(n: int) -> List[str]:\n",
        "    \"\"\"\n",
        "    Generate all combinations of n pairs of well-formed parentheses.\n",
        "    \"\"\"\n",
        "    res: List[str] = []\n",
        "\n",
        "    def backtrack(s: str, open_count: int, close_count: int):\n",
        "        # If the current string s has length 2*n, it's a valid combination\n",
        "        if len(s) == 2 * n:\n",
        "            res.append(s)\n",
        "            return\n",
        "\n",
        "        # If we can still add an opening parenthesis, do it\n",
        "        if open_count < n:\n",
        "            backtrack(s + \"(\", open_count + 1, close_count)\n",
        "\n",
        "        # We can add a closing parenthesis only if there are unmatched openings\n",
        "        if close_count < open_count:\n",
        "            backtrack(s + \")\", open_count, close_count + 1)\n",
        "\n",
        "    backtrack(\"\", 0, 0)\n",
        "    return res\n",
        "\n",
        "\n",
        "\n",
        "if __name__ == \"__main__\":\n",
        "    print(generate_parentheses(1))\n",
        "    print(generate_parentheses(2))\n",
        "    print(generate_parentheses(3))\n",
        "    print( generate_parentheses(6))\n"
      ],
      "metadata": {
        "colab": {
          "base_uri": "https://localhost:8080/"
        },
        "id": "wkrn3hGXLHJz",
        "outputId": "514114a0-c126-4ab9-d18f-6fca11780afc"
      },
      "execution_count": 7,
      "outputs": [
        {
          "output_type": "stream",
          "name": "stdout",
          "text": [
            "['()']\n",
            "['(())', '()()']\n",
            "['((()))', '(()())', '(())()', '()(())', '()()()']\n",
            "['(((((())))))', '((((()()))))', '((((())())))', '((((()))()))', '((((())))())', '((((()))))()', '(((()(()))))', '(((()()())))', '(((()())()))', '(((()()))())', '(((()())))()', '(((())(())))', '(((())()()))', '(((())())())', '(((())()))()', '(((()))(()))', '(((()))()())', '(((()))())()', '(((())))(())', '(((())))()()', '((()((()))))', '((()(()())))', '((()(())()))', '((()(()))())', '((()(())))()', '((()()(())))', '((()()()()))', '((()()())())', '((()()()))()', '((()())(()))', '((()())()())', '((()())())()', '((()()))(())', '((()()))()()', '((())((())))', '((())(()()))', '((())(())())', '((())(()))()', '((())()(()))', '((())()()())', '((())()())()', '((())())(())', '((())())()()', '((()))((()))', '((()))(()())', '((()))(())()', '((()))()(())', '((()))()()()', '(()(((()))))', '(()((()())))', '(()((())()))', '(()((()))())', '(()((())))()', '(()(()(())))', '(()(()()()))', '(()(()())())', '(()(()()))()', '(()(())(()))', '(()(())()())', '(()(())())()', '(()(()))(())', '(()(()))()()', '(()()((())))', '(()()(()()))', '(()()(())())', '(()()(()))()', '(()()()(()))', '(()()()()())', '(()()()())()', '(()()())(())', '(()()())()()', '(()())((()))', '(()())(()())', '(()())(())()', '(()())()(())', '(()())()()()', '(())(((())))', '(())((()()))', '(())((())())', '(())((()))()', '(())(()(()))', '(())(()()())', '(())(()())()', '(())(())(())', '(())(())()()', '(())()((()))', '(())()(()())', '(())()(())()', '(())()()(())', '(())()()()()', '()((((()))))', '()(((()())))', '()(((())()))', '()(((()))())', '()(((())))()', '()((()(())))', '()((()()()))', '()((()())())', '()((()()))()', '()((())(()))', '()((())()())', '()((())())()', '()((()))(())', '()((()))()()', '()(()((())))', '()(()(()()))', '()(()(())())', '()(()(()))()', '()(()()(()))', '()(()()()())', '()(()()())()', '()(()())(())', '()(()())()()', '()(())((()))', '()(())(()())', '()(())(())()', '()(())()(())', '()(())()()()', '()()(((())))', '()()((()()))', '()()((())())', '()()((()))()', '()()(()(()))', '()()(()()())', '()()(()())()', '()()(())(())', '()()(())()()', '()()()((()))', '()()()(()())', '()()()(())()', '()()()()(())', '()()()()()()']\n"
          ]
        }
      ]
    }
  ]
}